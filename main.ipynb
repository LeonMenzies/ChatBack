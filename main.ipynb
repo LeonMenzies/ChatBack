{
 "cells": [
  {
   "cell_type": "code",
   "execution_count": 8,
   "metadata": {},
   "outputs": [
    {
     "name": "stdout",
     "output_type": "stream",
     "text": [
      "\u001b[33mDEPRECATION: Configuring installation scheme with distutils config files is deprecated and will no longer work in the near future. If you are using a Homebrew or Linuxbrew Python, please see discussion at https://github.com/Homebrew/homebrew-core/issues/76621\u001b[0m\u001b[33m\n",
      "\u001b[0mCollecting convokit\n",
      "  Using cached convokit-2.5.3-py3-none-any.whl\n",
      "Requirement already satisfied: matplotlib>=3.0.0 in /opt/homebrew/lib/python3.9/site-packages (from convokit) (3.6.2)\n",
      "Requirement already satisfied: joblib>=0.13.2 in /opt/homebrew/lib/python3.9/site-packages (from convokit) (1.2.0)\n",
      "Collecting dill>=0.2.9\n",
      "  Using cached dill-0.3.6-py3-none-any.whl (110 kB)\n",
      "Collecting nltk>=3.4\n",
      "  Downloading nltk-3.8.1-py3-none-any.whl (1.5 MB)\n",
      "\u001b[2K     \u001b[90m━━━━━━━━━━━━━━━━━━━━━━━━━━━━━━━━━━━━━━━━\u001b[0m \u001b[32m1.5/1.5 MB\u001b[0m \u001b[31m9.8 MB/s\u001b[0m eta \u001b[36m0:00:00\u001b[0m:00:01\u001b[0m00:01\u001b[0m\n",
      "\u001b[?25hRequirement already satisfied: scipy>=1.1.0 in /opt/homebrew/lib/python3.9/site-packages (from convokit) (1.10.0)\n",
      "Collecting clean-text>=0.1.1\n",
      "  Using cached clean_text-0.6.0-py3-none-any.whl (11 kB)\n",
      "Requirement already satisfied: pandas>=0.23.4 in /opt/homebrew/lib/python3.9/site-packages (from convokit) (1.5.2)\n",
      "Collecting spacy>=2.3.5\n",
      "  Downloading spacy-3.5.1-cp39-cp39-macosx_11_0_arm64.whl (6.6 MB)\n",
      "\u001b[2K     \u001b[90m━━━━━━━━━━━━━━━━━━━━━━━━━━━━━━━━━━━━━━━━\u001b[0m \u001b[32m6.6/6.6 MB\u001b[0m \u001b[31m4.6 MB/s\u001b[0m eta \u001b[36m0:00:00\u001b[0m00:01\u001b[0m00:01\u001b[0m\n",
      "\u001b[?25hCollecting msgpack-numpy>=0.4.3.2\n",
      "  Using cached msgpack_numpy-0.4.8-py2.py3-none-any.whl (6.9 kB)\n",
      "Requirement already satisfied: scikit-learn>=0.20.0 in /opt/homebrew/lib/python3.9/site-packages (from convokit) (1.2.0)\n",
      "Collecting unidecode>=1.1.1\n",
      "  Downloading Unidecode-1.3.6-py3-none-any.whl (235 kB)\n",
      "\u001b[2K     \u001b[90m━━━━━━━━━━━━━━━━━━━━━━━━━━━━━━━━━━━━━━━\u001b[0m \u001b[32m235.9/235.9 kB\u001b[0m \u001b[31m3.8 MB/s\u001b[0m eta \u001b[36m0:00:00\u001b[0ma \u001b[36m0:00:01\u001b[0m\n",
      "\u001b[?25hCollecting ftfy<7.0,>=6.0\n",
      "  Using cached ftfy-6.1.1-py3-none-any.whl (53 kB)\n",
      "Collecting emoji<2.0.0,>=1.0.0\n",
      "  Using cached emoji-1.7.0-py3-none-any.whl\n",
      "Requirement already satisfied: kiwisolver>=1.0.1 in /opt/homebrew/lib/python3.9/site-packages (from matplotlib>=3.0.0->convokit) (1.4.4)\n",
      "Requirement already satisfied: contourpy>=1.0.1 in /opt/homebrew/lib/python3.9/site-packages (from matplotlib>=3.0.0->convokit) (1.0.6)\n",
      "Requirement already satisfied: pillow>=6.2.0 in /opt/homebrew/lib/python3.9/site-packages (from matplotlib>=3.0.0->convokit) (9.4.0)\n",
      "Requirement already satisfied: fonttools>=4.22.0 in /opt/homebrew/lib/python3.9/site-packages (from matplotlib>=3.0.0->convokit) (4.38.0)\n",
      "Requirement already satisfied: python-dateutil>=2.7 in /opt/homebrew/lib/python3.9/site-packages (from matplotlib>=3.0.0->convokit) (2.8.2)\n",
      "Requirement already satisfied: packaging>=20.0 in /opt/homebrew/lib/python3.9/site-packages (from matplotlib>=3.0.0->convokit) (21.3)\n",
      "Requirement already satisfied: pyparsing>=2.2.1 in /opt/homebrew/lib/python3.9/site-packages (from matplotlib>=3.0.0->convokit) (3.0.9)\n",
      "Requirement already satisfied: numpy>=1.19 in /opt/homebrew/lib/python3.9/site-packages (from matplotlib>=3.0.0->convokit) (1.24.1)\n",
      "Requirement already satisfied: cycler>=0.10 in /opt/homebrew/lib/python3.9/site-packages (from matplotlib>=3.0.0->convokit) (0.11.0)\n",
      "Collecting msgpack>=0.5.2\n",
      "  Downloading msgpack-1.0.5-cp39-cp39-macosx_11_0_arm64.whl (70 kB)\n",
      "\u001b[2K     \u001b[90m━━━━━━━━━━━━━━━━━━━━━━━━━━━━━━━━━━━━━━━━\u001b[0m \u001b[32m70.5/70.5 kB\u001b[0m \u001b[31m1.8 MB/s\u001b[0m eta \u001b[36m0:00:00\u001b[0m\n",
      "\u001b[?25hCollecting tqdm\n",
      "  Downloading tqdm-4.65.0-py3-none-any.whl (77 kB)\n",
      "\u001b[2K     \u001b[90m━━━━━━━━━━━━━━━━━━━━━━━━━━━━━━━━━━━━━━━━\u001b[0m \u001b[32m77.1/77.1 kB\u001b[0m \u001b[31m3.9 MB/s\u001b[0m eta \u001b[36m0:00:00\u001b[0m\n",
      "\u001b[?25hCollecting regex>=2021.8.3\n",
      "  Downloading regex-2023.3.23-cp39-cp39-macosx_11_0_arm64.whl (288 kB)\n",
      "\u001b[2K     \u001b[90m━━━━━━━━━━━━━━━━━━━━━━━━━━━━━━━━━━━━━━━\u001b[0m \u001b[32m288.9/288.9 kB\u001b[0m \u001b[31m6.3 MB/s\u001b[0m eta \u001b[36m0:00:00\u001b[0ma \u001b[36m0:00:01\u001b[0m\n",
      "\u001b[?25hCollecting click\n",
      "  Downloading click-8.1.3-py3-none-any.whl (96 kB)\n",
      "\u001b[2K     \u001b[90m━━━━━━━━━━━━━━━━━━━━━━━━━━━━━━━━━━━━━━━━\u001b[0m \u001b[32m96.6/96.6 kB\u001b[0m \u001b[31m5.0 MB/s\u001b[0m eta \u001b[36m0:00:00\u001b[0m\n",
      "\u001b[?25hRequirement already satisfied: pytz>=2020.1 in /opt/homebrew/lib/python3.9/site-packages (from pandas>=0.23.4->convokit) (2022.7)\n",
      "Requirement already satisfied: threadpoolctl>=2.0.0 in /opt/homebrew/lib/python3.9/site-packages (from scikit-learn>=0.20.0->convokit) (3.1.0)\n",
      "Requirement already satisfied: jinja2 in /opt/homebrew/lib/python3.9/site-packages (from spacy>=2.3.5->convokit) (3.1.2)\n",
      "Collecting thinc<8.2.0,>=8.1.8\n",
      "  Downloading thinc-8.1.9-cp39-cp39-macosx_11_0_arm64.whl (780 kB)\n",
      "\u001b[2K     \u001b[90m━━━━━━━━━━━━━━━━━━━━━━━━━━━━━━━━━━━━━━━\u001b[0m \u001b[32m780.0/780.0 kB\u001b[0m \u001b[31m6.5 MB/s\u001b[0m eta \u001b[36m0:00:00\u001b[0ma \u001b[36m0:00:01\u001b[0m\n",
      "\u001b[?25hCollecting cymem<2.1.0,>=2.0.2\n",
      "  Downloading cymem-2.0.7-cp39-cp39-macosx_11_0_arm64.whl (31 kB)\n",
      "Collecting typer<0.8.0,>=0.3.0\n",
      "  Using cached typer-0.7.0-py3-none-any.whl (38 kB)\n",
      "Requirement already satisfied: setuptools in /opt/homebrew/lib/python3.9/site-packages (from spacy>=2.3.5->convokit) (62.3.2)\n",
      "Collecting spacy-loggers<2.0.0,>=1.0.0\n",
      "  Using cached spacy_loggers-1.0.4-py3-none-any.whl (11 kB)\n",
      "Collecting srsly<3.0.0,>=2.4.3\n",
      "  Downloading srsly-2.4.6-cp39-cp39-macosx_11_0_arm64.whl (490 kB)\n",
      "\u001b[2K     \u001b[90m━━━━━━━━━━━━━━━━━━━━━━━━━━━━━━━━━━━━━━━\u001b[0m \u001b[32m490.7/490.7 kB\u001b[0m \u001b[31m6.9 MB/s\u001b[0m eta \u001b[36m0:00:00\u001b[0ma \u001b[36m0:00:01\u001b[0m\n",
      "\u001b[?25hCollecting langcodes<4.0.0,>=3.2.0\n",
      "  Using cached langcodes-3.3.0-py3-none-any.whl (181 kB)\n",
      "Collecting catalogue<2.1.0,>=2.0.6\n",
      "  Using cached catalogue-2.0.8-py3-none-any.whl (17 kB)\n",
      "Collecting spacy-legacy<3.1.0,>=3.0.11\n",
      "  Using cached spacy_legacy-3.0.12-py2.py3-none-any.whl (29 kB)\n",
      "Collecting murmurhash<1.1.0,>=0.28.0\n",
      "  Downloading murmurhash-1.0.9-cp39-cp39-macosx_11_0_arm64.whl (19 kB)\n",
      "Collecting smart-open<7.0.0,>=5.2.1\n",
      "  Using cached smart_open-6.3.0-py3-none-any.whl (56 kB)\n",
      "Collecting wasabi<1.2.0,>=0.9.1\n",
      "  Using cached wasabi-1.1.1-py3-none-any.whl (27 kB)\n",
      "Collecting preshed<3.1.0,>=3.0.2\n",
      "  Downloading preshed-3.0.8-cp39-cp39-macosx_11_0_arm64.whl (101 kB)\n",
      "\u001b[2K     \u001b[90m━━━━━━━━━━━━━━━━━━━━━━━━━━━━━━━━━━━━━━━\u001b[0m \u001b[32m101.7/101.7 kB\u001b[0m \u001b[31m6.3 MB/s\u001b[0m eta \u001b[36m0:00:00\u001b[0m\n",
      "\u001b[?25hCollecting pathy>=0.10.0\n",
      "  Using cached pathy-0.10.1-py3-none-any.whl (48 kB)\n",
      "Requirement already satisfied: requests<3.0.0,>=2.13.0 in /opt/homebrew/lib/python3.9/site-packages (from spacy>=2.3.5->convokit) (2.28.2)\n",
      "Collecting pydantic!=1.8,!=1.8.1,<1.11.0,>=1.7.4\n",
      "  Downloading pydantic-1.10.7-cp39-cp39-macosx_11_0_arm64.whl (2.6 MB)\n",
      "\u001b[2K     \u001b[90m━━━━━━━━━━━━━━━━━━━━━━━━━━━━━━━━━━━━━━━━\u001b[0m \u001b[32m2.6/2.6 MB\u001b[0m \u001b[31m7.4 MB/s\u001b[0m eta \u001b[36m0:00:00\u001b[0m00:01\u001b[0m00:01\u001b[0m\n",
      "\u001b[?25hRequirement already satisfied: wcwidth>=0.2.5 in /opt/homebrew/lib/python3.9/site-packages (from ftfy<7.0,>=6.0->clean-text>=0.1.1->convokit) (0.2.5)\n",
      "Requirement already satisfied: typing-extensions>=4.2.0 in /opt/homebrew/lib/python3.9/site-packages (from pydantic!=1.8,!=1.8.1,<1.11.0,>=1.7.4->spacy>=2.3.5->convokit) (4.5.0)\n",
      "Requirement already satisfied: six>=1.5 in /opt/homebrew/lib/python3.9/site-packages (from python-dateutil>=2.7->matplotlib>=3.0.0->convokit) (1.16.0)\n",
      "Requirement already satisfied: idna<4,>=2.5 in /opt/homebrew/lib/python3.9/site-packages (from requests<3.0.0,>=2.13.0->spacy>=2.3.5->convokit) (3.4)\n",
      "Requirement already satisfied: charset-normalizer<4,>=2 in /opt/homebrew/lib/python3.9/site-packages (from requests<3.0.0,>=2.13.0->spacy>=2.3.5->convokit) (3.1.0)\n",
      "Requirement already satisfied: urllib3<1.27,>=1.21.1 in /opt/homebrew/lib/python3.9/site-packages (from requests<3.0.0,>=2.13.0->spacy>=2.3.5->convokit) (1.26.13)\n",
      "Requirement already satisfied: certifi>=2017.4.17 in /opt/homebrew/lib/python3.9/site-packages (from requests<3.0.0,>=2.13.0->spacy>=2.3.5->convokit) (2022.12.7)\n",
      "Collecting blis<0.8.0,>=0.7.8\n",
      "  Downloading blis-0.7.9-cp39-cp39-macosx_11_0_arm64.whl (1.1 MB)\n",
      "\u001b[2K     \u001b[90m━━━━━━━━━━━━━━━━━━━━━━━━━━━━━━━━━━━━━━━━\u001b[0m \u001b[32m1.1/1.1 MB\u001b[0m \u001b[31m2.6 MB/s\u001b[0m eta \u001b[36m0:00:00\u001b[0ma \u001b[36m0:00:01\u001b[0m\n",
      "\u001b[?25hCollecting confection<1.0.0,>=0.0.1\n",
      "  Using cached confection-0.0.4-py3-none-any.whl (32 kB)\n",
      "Requirement already satisfied: MarkupSafe>=2.0 in /opt/homebrew/lib/python3.9/site-packages (from jinja2->spacy>=2.3.5->convokit) (2.1.1)\n",
      "Installing collected packages: msgpack, emoji, cymem, wasabi, unidecode, tqdm, spacy-loggers, spacy-legacy, smart-open, regex, pydantic, murmurhash, msgpack-numpy, langcodes, ftfy, dill, click, catalogue, blis, typer, srsly, preshed, nltk, clean-text, pathy, confection, thinc, spacy, convokit\n",
      "\u001b[33m  DEPRECATION: Configuring installation scheme with distutils config files is deprecated and will no longer work in the near future. If you are using a Homebrew or Linuxbrew Python, please see discussion at https://github.com/Homebrew/homebrew-core/issues/76621\u001b[0m\u001b[33m\n",
      "\u001b[0m\u001b[33m  DEPRECATION: Configuring installation scheme with distutils config files is deprecated and will no longer work in the near future. If you are using a Homebrew or Linuxbrew Python, please see discussion at https://github.com/Homebrew/homebrew-core/issues/76621\u001b[0m\u001b[33m\n",
      "\u001b[0m\u001b[33m  DEPRECATION: Configuring installation scheme with distutils config files is deprecated and will no longer work in the near future. If you are using a Homebrew or Linuxbrew Python, please see discussion at https://github.com/Homebrew/homebrew-core/issues/76621\u001b[0m\u001b[33m\n",
      "\u001b[0m\u001b[33m  DEPRECATION: Configuring installation scheme with distutils config files is deprecated and will no longer work in the near future. If you are using a Homebrew or Linuxbrew Python, please see discussion at https://github.com/Homebrew/homebrew-core/issues/76621\u001b[0m\u001b[33m\n",
      "\u001b[0m\u001b[33m  DEPRECATION: Configuring installation scheme with distutils config files is deprecated and will no longer work in the near future. If you are using a Homebrew or Linuxbrew Python, please see discussion at https://github.com/Homebrew/homebrew-core/issues/76621\u001b[0m\u001b[33m\n",
      "\u001b[0m\u001b[33m  DEPRECATION: Configuring installation scheme with distutils config files is deprecated and will no longer work in the near future. If you are using a Homebrew or Linuxbrew Python, please see discussion at https://github.com/Homebrew/homebrew-core/issues/76621\u001b[0m\u001b[33m\n",
      "\u001b[0m\u001b[33m  DEPRECATION: Configuring installation scheme with distutils config files is deprecated and will no longer work in the near future. If you are using a Homebrew or Linuxbrew Python, please see discussion at https://github.com/Homebrew/homebrew-core/issues/76621\u001b[0m\u001b[33m\n",
      "\u001b[0m\u001b[33m  DEPRECATION: Configuring installation scheme with distutils config files is deprecated and will no longer work in the near future. If you are using a Homebrew or Linuxbrew Python, please see discussion at https://github.com/Homebrew/homebrew-core/issues/76621\u001b[0m\u001b[33m\n",
      "\u001b[0m\u001b[33m  DEPRECATION: Configuring installation scheme with distutils config files is deprecated and will no longer work in the near future. If you are using a Homebrew or Linuxbrew Python, please see discussion at https://github.com/Homebrew/homebrew-core/issues/76621\u001b[0m\u001b[33m\n",
      "\u001b[0m\u001b[33m  DEPRECATION: Configuring installation scheme with distutils config files is deprecated and will no longer work in the near future. If you are using a Homebrew or Linuxbrew Python, please see discussion at https://github.com/Homebrew/homebrew-core/issues/76621\u001b[0m\u001b[33m\n",
      "\u001b[0m\u001b[33m  DEPRECATION: Configuring installation scheme with distutils config files is deprecated and will no longer work in the near future. If you are using a Homebrew or Linuxbrew Python, please see discussion at https://github.com/Homebrew/homebrew-core/issues/76621\u001b[0m\u001b[33m\n",
      "\u001b[0m\u001b[33m  DEPRECATION: Configuring installation scheme with distutils config files is deprecated and will no longer work in the near future. If you are using a Homebrew or Linuxbrew Python, please see discussion at https://github.com/Homebrew/homebrew-core/issues/76621\u001b[0m\u001b[33m\n",
      "\u001b[0m\u001b[33m  DEPRECATION: Configuring installation scheme with distutils config files is deprecated and will no longer work in the near future. If you are using a Homebrew or Linuxbrew Python, please see discussion at https://github.com/Homebrew/homebrew-core/issues/76621\u001b[0m\u001b[33m\n",
      "\u001b[0m\u001b[33m  DEPRECATION: Configuring installation scheme with distutils config files is deprecated and will no longer work in the near future. If you are using a Homebrew or Linuxbrew Python, please see discussion at https://github.com/Homebrew/homebrew-core/issues/76621\u001b[0m\u001b[33m\n",
      "\u001b[0m\u001b[33m  DEPRECATION: Configuring installation scheme with distutils config files is deprecated and will no longer work in the near future. If you are using a Homebrew or Linuxbrew Python, please see discussion at https://github.com/Homebrew/homebrew-core/issues/76621\u001b[0m\u001b[33m\n",
      "\u001b[0m\u001b[33m  DEPRECATION: Configuring installation scheme with distutils config files is deprecated and will no longer work in the near future. If you are using a Homebrew or Linuxbrew Python, please see discussion at https://github.com/Homebrew/homebrew-core/issues/76621\u001b[0m\u001b[33m\n",
      "\u001b[0m\u001b[33m  DEPRECATION: Configuring installation scheme with distutils config files is deprecated and will no longer work in the near future. If you are using a Homebrew or Linuxbrew Python, please see discussion at https://github.com/Homebrew/homebrew-core/issues/76621\u001b[0m\u001b[33m\n",
      "\u001b[0m\u001b[33m  DEPRECATION: Configuring installation scheme with distutils config files is deprecated and will no longer work in the near future. If you are using a Homebrew or Linuxbrew Python, please see discussion at https://github.com/Homebrew/homebrew-core/issues/76621\u001b[0m\u001b[33m\n",
      "\u001b[0m\u001b[33m  DEPRECATION: Configuring installation scheme with distutils config files is deprecated and will no longer work in the near future. If you are using a Homebrew or Linuxbrew Python, please see discussion at https://github.com/Homebrew/homebrew-core/issues/76621\u001b[0m\u001b[33m\n",
      "\u001b[0m\u001b[33m  DEPRECATION: Configuring installation scheme with distutils config files is deprecated and will no longer work in the near future. If you are using a Homebrew or Linuxbrew Python, please see discussion at https://github.com/Homebrew/homebrew-core/issues/76621\u001b[0m\u001b[33m\n",
      "\u001b[0m\u001b[33m  DEPRECATION: Configuring installation scheme with distutils config files is deprecated and will no longer work in the near future. If you are using a Homebrew or Linuxbrew Python, please see discussion at https://github.com/Homebrew/homebrew-core/issues/76621\u001b[0m\u001b[33m\n",
      "\u001b[0m\u001b[33m  DEPRECATION: Configuring installation scheme with distutils config files is deprecated and will no longer work in the near future. If you are using a Homebrew or Linuxbrew Python, please see discussion at https://github.com/Homebrew/homebrew-core/issues/76621\u001b[0m\u001b[33m\n",
      "\u001b[0m\u001b[33m  DEPRECATION: Configuring installation scheme with distutils config files is deprecated and will no longer work in the near future. If you are using a Homebrew or Linuxbrew Python, please see discussion at https://github.com/Homebrew/homebrew-core/issues/76621\u001b[0m\u001b[33m\n",
      "\u001b[0m\u001b[33m  DEPRECATION: Configuring installation scheme with distutils config files is deprecated and will no longer work in the near future. If you are using a Homebrew or Linuxbrew Python, please see discussion at https://github.com/Homebrew/homebrew-core/issues/76621\u001b[0m\u001b[33m\n",
      "\u001b[0m\u001b[33m  DEPRECATION: Configuring installation scheme with distutils config files is deprecated and will no longer work in the near future. If you are using a Homebrew or Linuxbrew Python, please see discussion at https://github.com/Homebrew/homebrew-core/issues/76621\u001b[0m\u001b[33m\n",
      "\u001b[0m\u001b[33m  DEPRECATION: Configuring installation scheme with distutils config files is deprecated and will no longer work in the near future. If you are using a Homebrew or Linuxbrew Python, please see discussion at https://github.com/Homebrew/homebrew-core/issues/76621\u001b[0m\u001b[33m\n",
      "\u001b[0m\u001b[33m  DEPRECATION: Configuring installation scheme with distutils config files is deprecated and will no longer work in the near future. If you are using a Homebrew or Linuxbrew Python, please see discussion at https://github.com/Homebrew/homebrew-core/issues/76621\u001b[0m\u001b[33m\n",
      "\u001b[0m\u001b[33m  DEPRECATION: Configuring installation scheme with distutils config files is deprecated and will no longer work in the near future. If you are using a Homebrew or Linuxbrew Python, please see discussion at https://github.com/Homebrew/homebrew-core/issues/76621\u001b[0m\u001b[33m\n",
      "\u001b[0m\u001b[33m  DEPRECATION: Configuring installation scheme with distutils config files is deprecated and will no longer work in the near future. If you are using a Homebrew or Linuxbrew Python, please see discussion at https://github.com/Homebrew/homebrew-core/issues/76621\u001b[0m\u001b[33m\n",
      "\u001b[0m\u001b[33mDEPRECATION: Configuring installation scheme with distutils config files is deprecated and will no longer work in the near future. If you are using a Homebrew or Linuxbrew Python, please see discussion at https://github.com/Homebrew/homebrew-core/issues/76621\u001b[0m\u001b[33m\n",
      "\u001b[0mSuccessfully installed blis-0.7.9 catalogue-2.0.8 clean-text-0.6.0 click-8.1.3 confection-0.0.4 convokit-2.5.3 cymem-2.0.7 dill-0.3.6 emoji-1.7.0 ftfy-6.1.1 langcodes-3.3.0 msgpack-1.0.5 msgpack-numpy-0.4.8 murmurhash-1.0.9 nltk-3.8.1 pathy-0.10.1 preshed-3.0.8 pydantic-1.10.7 regex-2023.3.23 smart-open-6.3.0 spacy-3.5.1 spacy-legacy-3.0.12 spacy-loggers-1.0.4 srsly-2.4.6 thinc-8.1.9 tqdm-4.65.0 typer-0.7.0 unidecode-1.3.6 wasabi-1.1.1\n",
      "\u001b[33mWARNING: There was an error checking the latest version of pip.\u001b[0m\u001b[33m\n",
      "\u001b[0mNote: you may need to restart the kernel to use updated packages.\n"
     ]
    }
   ],
   "source": [
    "pip install convokit"
   ]
  },
  {
   "cell_type": "code",
   "execution_count": 9,
   "metadata": {},
   "outputs": [],
   "source": [
    "from convokit import Corpus, download"
   ]
  },
  {
   "cell_type": "code",
   "execution_count": 10,
   "metadata": {},
   "outputs": [
    {
     "name": "stdout",
     "output_type": "stream",
     "text": [
      "Downloading conversations-gone-awry-corpus to /Users/leonmenzies/.convokit/downloads/conversations-gone-awry-corpus\n",
      "Downloading conversations-gone-awry-corpus from http://zissou.infosci.cornell.edu/convokit/datasets/conversations-gone-awry-corpus/conversations-gone-awry-corpus.zip (45.2MB)... Done\n"
     ]
    }
   ],
   "source": [
    "corpus = Corpus(filename=download(\"conversations-gone-awry-corpus\"))\n"
   ]
  },
  {
   "cell_type": "code",
   "execution_count": 13,
   "metadata": {},
   "outputs": [
    {
     "name": "stdout",
     "output_type": "stream",
     "text": [
      "Number of Speakers: 8069\n",
      "Number of Utterances: 30021\n",
      "Number of Conversations: 4188\n"
     ]
    }
   ],
   "source": [
    "corpus.print_summary_stats()"
   ]
  },
  {
   "cell_type": "code",
   "execution_count": 18,
   "metadata": {},
   "outputs": [
    {
     "data": {
      "text/plain": [
       "Utterance({'obj_type': 'utterance', 'meta': {'is_section_header': False, 'comment_has_personal_attack': True, 'parsed': [{'rt': 7, 'toks': [{'tok': ',', 'tag': ',', 'dep': 'punct', 'up': 7, 'dn': []}, {'tok': 'you', 'tag': 'PRP', 'dep': 'nsubj', 'up': 3, 'dn': []}, {'tok': \"'re\", 'tag': 'VBP', 'dep': 'aux', 'up': 3, 'dn': []}, {'tok': 'being', 'tag': 'VBG', 'dep': 'ccomp', 'up': 7, 'dn': [1, 2, 4, 5]}, {'tok': 'arrogant', 'tag': 'JJ', 'dep': 'acomp', 'up': 3, 'dn': []}, {'tok': 'now', 'tag': 'RB', 'dep': 'advmod', 'up': 3, 'dn': []}, {'tok': ',', 'tag': ',', 'dep': 'punct', 'up': 7, 'dn': []}, {'tok': \"y'know\", 'tag': 'NN', 'dep': 'ROOT', 'dn': [0, 3, 6, 8]}, {'tok': '.', 'tag': '.', 'dep': 'punct', 'up': 7, 'dn': []}]}, {'rt': 4, 'toks': [{'tok': 'Why', 'tag': 'WRB', 'dep': 'advmod', 'up': 4, 'dn': []}, {'tok': 'do', 'tag': 'VBP', 'dep': 'aux', 'up': 4, 'dn': []}, {'tok': \"n't\", 'tag': 'RB', 'dep': 'neg', 'up': 4, 'dn': []}, {'tok': 'you', 'tag': 'PRP', 'dep': 'nsubj', 'up': 4, 'dn': []}, {'tok': 'go', 'tag': 'VB', 'dep': 'ROOT', 'dn': [0, 1, 2, 3, 5, 6]}, {'tok': 'and', 'tag': 'CC', 'dep': 'cc', 'up': 4, 'dn': []}, {'tok': 'revert', 'tag': 'VB', 'dep': 'conj', 'up': 4, 'dn': [12, 15]}, {'tok': 'all', 'tag': 'PDT', 'dep': 'predet', 'up': 12, 'dn': []}, {'tok': 'the', 'tag': 'DT', 'dep': 'det', 'up': 12, 'dn': []}, {'tok': 'other', 'tag': 'JJ', 'dep': 'amod', 'up': 12, 'dn': []}, {'tok': 'TV', 'tag': 'NN', 'dep': 'compound', 'up': 11, 'dn': []}, {'tok': 'show', 'tag': 'NN', 'dep': 'compound', 'up': 12, 'dn': [10]}, {'tok': 'articles', 'tag': 'NNS', 'dep': 'dobj', 'up': 6, 'dn': [7, 8, 9, 11]}, {'tok': 'while', 'tag': 'IN', 'dep': 'mark', 'up': 15, 'dn': []}, {'tok': 'you', 'tag': 'PRP', 'dep': 'nsubj', 'up': 15, 'dn': []}, {'tok': \"'re\", 'tag': 'VBP', 'dep': 'advcl', 'up': 6, 'dn': [13, 14]}]}, {'rt': 0, 'toks': [{'tok': 'are', 'tag': 'VBP', 'dep': 'ROOT', 'dn': [1, 2]}, {'tok': 'it', 'tag': 'PRP', 'dep': 'nsubj', 'up': 0, 'dn': []}, {'tok': '?', 'tag': '.', 'dep': 'punct', 'up': 0, 'dn': []}]}, {'rt': 4, 'toks': [{'tok': 'Seriously', 'tag': 'RB', 'dep': 'advmod', 'up': 4, 'dn': []}, {'tok': ',', 'tag': ',', 'dep': 'punct', 'up': 4, 'dn': []}, {'tok': 'do', 'tag': 'VBP', 'dep': 'aux', 'up': 4, 'dn': []}, {'tok': 'I', 'tag': 'PRP', 'dep': 'nsubj', 'up': 4, 'dn': []}, {'tok': 'look', 'tag': 'VB', 'dep': 'ROOT', 'dn': [0, 1, 2, 3, 5, 8]}, {'tok': 'retarded', 'tag': 'JJ', 'dep': 'acomp', 'up': 4, 'dn': [6]}, {'tok': 'to', 'tag': 'IN', 'dep': 'prep', 'up': 5, 'dn': [7]}, {'tok': 'you', 'tag': 'PRP', 'dep': 'pobj', 'up': 6, 'dn': []}, {'tok': '?', 'tag': '.', 'dep': 'punct', 'up': 4, 'dn': []}]}, {'rt': 1, 'toks': [{'tok': 'You', 'tag': 'PRP', 'dep': 'nsubj', 'up': 1, 'dn': []}, {'tok': 'think', 'tag': 'VBP', 'dep': 'ROOT', 'dn': [0, 5, 10]}, {'tok': 'I', 'tag': 'PRP', 'dep': 'nsubj', 'up': 5, 'dn': []}, {'tok': 'do', 'tag': 'VBP', 'dep': 'aux', 'up': 5, 'dn': []}, {'tok': \"n't\", 'tag': 'RB', 'dep': 'neg', 'up': 5, 'dn': []}, {'tok': 'see', 'tag': 'VB', 'dep': 'ccomp', 'up': 1, 'dn': [2, 3, 4, 7]}, {'tok': 'what', 'tag': 'WP', 'dep': 'nsubj', 'up': 7, 'dn': []}, {'tok': \"'s\", 'tag': 'VBZ', 'dep': 'ccomp', 'up': 5, 'dn': [6, 8]}, {'tok': 'on', 'tag': 'IN', 'dep': 'prep', 'up': 7, 'dn': [9]}, {'tok': 'Amazing', 'tag': 'JJ', 'dep': 'pobj', 'up': 8, 'dn': []}, {'tok': '?', 'tag': '.', 'dep': 'punct', 'up': 1, 'dn': []}]}, {'rt': 1, 'toks': [{'tok': 'It', 'tag': 'PRP', 'dep': 'nsubj', 'up': 1, 'dn': []}, {'tok': \"'s\", 'tag': 'VBZ', 'dep': 'ROOT', 'dn': [0, 5, 11, 12, 13, 18]}, {'tok': 'the', 'tag': 'DT', 'dep': 'det', 'up': 5, 'dn': []}, {'tok': 'same', 'tag': 'JJ', 'dep': 'amod', 'up': 5, 'dn': []}, {'tok': 'exact', 'tag': 'JJ', 'dep': 'amod', 'up': 5, 'dn': []}, {'tok': 'thing', 'tag': 'NN', 'dep': 'attr', 'up': 1, 'dn': [2, 3, 4, 6, 8, 10]}, {'tok': 'with', 'tag': 'IN', 'dep': 'prep', 'up': 5, 'dn': [7]}, {'tok': 'FOP', 'tag': 'NNP', 'dep': 'pobj', 'up': 6, 'dn': []}, {'tok': 'and', 'tag': 'CC', 'dep': 'cc', 'up': 5, 'dn': []}, {'tok': 'Danny', 'tag': 'NNP', 'dep': 'compound', 'up': 10, 'dn': []}, {'tok': 'Phantom', 'tag': 'NNP', 'dep': 'conj', 'up': 5, 'dn': [9]}, {'tok': ',', 'tag': ',', 'dep': 'punct', 'up': 1, 'dn': []}, {'tok': 'yet', 'tag': 'RB', 'dep': 'cc', 'up': 1, 'dn': []}, {'tok': ',', 'tag': ',', 'dep': 'punct', 'up': 1, 'dn': []}, {'tok': 'you', 'tag': 'PRP', 'dep': 'nsubj', 'up': 18, 'dn': []}, {'tok': \"'re\", 'tag': 'VBP', 'dep': 'aux', 'up': 18, 'dn': []}, {'tok': 'not', 'tag': 'RB', 'dep': 'neg', 'up': 18, 'dn': []}, {'tok': 'even', 'tag': 'RB', 'dep': 'advmod', 'up': 18, 'dn': []}, {'tok': 'doing', 'tag': 'VBG', 'dep': 'conj', 'up': 1, 'dn': [14, 15, 16, 17, 19, 22]}, {'tok': 'jack', 'tag': 'NN', 'dep': 'dobj', 'up': 18, 'dn': [20]}, {'tok': 'about', 'tag': 'IN', 'dep': 'prep', 'up': 19, 'dn': [21]}, {'tok': 'that', 'tag': 'DT', 'dep': 'pobj', 'up': 20, 'dn': []}, {'tok': '.', 'tag': '.', 'dep': 'punct', 'up': 18, 'dn': []}]}, {'rt': 2, 'toks': [{'tok': 'I', 'tag': 'PRP', 'dep': 'nsubj', 'up': 2, 'dn': []}, {'tok': \"'ve\", 'tag': 'VB', 'dep': 'aux', 'up': 2, 'dn': []}, {'tok': 'reverted', 'tag': 'VBN', 'dep': 'ROOT', 'dn': [0, 1, 4, 5, 6]}, {'tok': 'your', 'tag': 'PRP$', 'dep': 'poss', 'up': 4, 'dn': []}, {'tok': 'edits', 'tag': 'NNS', 'dep': 'dobj', 'up': 2, 'dn': [3]}, {'tok': 'again', 'tag': 'RB', 'dep': 'advmod', 'up': 2, 'dn': []}, {'tok': '.', 'tag': '.', 'dep': 'punct', 'up': 2, 'dn': [7]}, {'tok': ' ', 'tag': '', 'dep': '', 'up': 6, 'dn': []}]}]}, 'vectors': [], 'speaker': Speaker({'obj_type': 'speaker', 'meta': {}, 'vectors': [], 'owner': <convokit.model.corpus.Corpus object at 0x28e61f310>, 'id': 'JoesphBarbaro'}), 'conversation_id': '681047436.363.363', 'reply_to': '681051713.1615.1614', 'timestamp': 1442308090.0, 'text': \", you're being arrogant now, y'know. Why don't you go and revert all the other TV show articles while you're are it? Seriously, do I look retarded to you? You think I don't see what's on Amazing? It's the same exact thing with FOP and Danny Phantom, yet, you're not even doing jack about that. I've reverted your edits again.  \", 'owner': <convokit.model.corpus.Corpus object at 0x28e61f310>, 'id': '681121661.3584.3584'})"
      ]
     },
     "metadata": {},
     "output_type": "display_data"
    }
   ],
   "source": [
    "utt = corpus.random_utterance()\n",
    "display(utt)"
   ]
  },
  {
   "cell_type": "code",
   "execution_count": 19,
   "metadata": {},
   "outputs": [
    {
     "name": "stdout",
     "output_type": "stream",
     "text": [
      "Text: , you're being arrogant now, y'know. Why don't you go and revert all the other TV show articles while you're are it? Seriously, do I look retarded to you? You think I don't see what's on Amazing? It's the same exact thing with FOP and Danny Phantom, yet, you're not even doing jack about that. I've reverted your edits again.   \n",
      "\n"
     ]
    }
   ],
   "source": [
    "print(\"Text:\", utt.text, \"\\n\")\n"
   ]
  },
  {
   "cell_type": "code",
   "execution_count": 23,
   "metadata": {},
   "outputs": [],
   "source": [
    "input = \"\"\n",
    "\n",
    "for utt in corpus.iter_utterances():\n",
    "    input += utt.text + \"\\n\""
   ]
  },
  {
   "cell_type": "code",
   "execution_count": 25,
   "metadata": {},
   "outputs": [
    {
     "name": "stdout",
     "output_type": "stream",
     "text": [
      "Length of the input: 11718747\n"
     ]
    }
   ],
   "source": [
    "print(\"Length of the input:\", len(input))"
   ]
  },
  {
   "cell_type": "code",
   "execution_count": null,
   "metadata": {},
   "outputs": [],
   "source": []
  }
 ],
 "metadata": {
  "kernelspec": {
   "display_name": "Python 3",
   "language": "python",
   "name": "python3"
  },
  "language_info": {
   "codemirror_mode": {
    "name": "ipython",
    "version": 3
   },
   "file_extension": ".py",
   "mimetype": "text/x-python",
   "name": "python",
   "nbconvert_exporter": "python",
   "pygments_lexer": "ipython3",
   "version": "3.9.13"
  },
  "orig_nbformat": 4
 },
 "nbformat": 4,
 "nbformat_minor": 2
}
