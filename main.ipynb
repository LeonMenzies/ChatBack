{
 "cells": [
  {
   "cell_type": "code",
   "execution_count": 12,
   "metadata": {},
   "outputs": [
    {
     "ename": "SyntaxError",
     "evalue": "invalid syntax (239858542.py, line 2)",
     "output_type": "error",
     "traceback": [
      "\u001b[0;36m  Input \u001b[0;32mIn [12]\u001b[0;36m\u001b[0m\n\u001b[0;31m    pip install torch\u001b[0m\n\u001b[0m        ^\u001b[0m\n\u001b[0;31mSyntaxError\u001b[0m\u001b[0;31m:\u001b[0m invalid syntax\n"
     ]
    }
   ],
   "source": [
    "#pip install convokit\n",
    "#pip install torch"
   ]
  },
  {
   "cell_type": "code",
   "execution_count": 14,
   "metadata": {},
   "outputs": [],
   "source": [
    "from convokit import Corpus, download\n",
    "import torch"
   ]
  },
  {
   "cell_type": "code",
   "execution_count": 4,
   "metadata": {},
   "outputs": [
    {
     "name": "stdout",
     "output_type": "stream",
     "text": [
      "Dataset already exists at /Users/leonmenzies/.convokit/downloads/conversations-gone-awry-corpus\n"
     ]
    }
   ],
   "source": [
    "corpus = Corpus(filename=download(\"conversations-gone-awry-corpus\"))\n"
   ]
  },
  {
   "cell_type": "code",
   "execution_count": 5,
   "metadata": {},
   "outputs": [
    {
     "name": "stdout",
     "output_type": "stream",
     "text": [
      "Number of Speakers: 8069\n",
      "Number of Utterances: 30021\n",
      "Number of Conversations: 4188\n"
     ]
    }
   ],
   "source": [
    "corpus.print_summary_stats()"
   ]
  },
  {
   "cell_type": "code",
   "execution_count": 6,
   "metadata": {},
   "outputs": [
    {
     "data": {
      "text/plain": [
       "Utterance({'obj_type': 'utterance', 'meta': {'is_section_header': False, 'comment_has_personal_attack': False, 'toxicity': 0.12403907, 'parsed': [{'rt': 7, 'toks': [{'tok': '(', 'tag': '-LRB-', 'dep': 'punct', 'up': 1, 'dn': []}, {'tok': '1', 'tag': 'LS', 'dep': 'meta', 'up': 7, 'dn': [0, 2]}, {'tok': ')', 'tag': '-RRB-', 'dep': 'punct', 'up': 1, 'dn': []}, {'tok': 'whether', 'tag': 'IN', 'dep': 'mark', 'up': 7, 'dn': []}, {'tok': 'it', 'tag': 'PRP', 'dep': 'nsubj', 'up': 7, 'dn': []}, {'tok': 'would', 'tag': 'MD', 'dep': 'aux', 'up': 7, 'dn': []}, {'tok': 'have', 'tag': 'VB', 'dep': 'aux', 'up': 7, 'dn': []}, {'tok': 'killed', 'tag': 'VBN', 'dep': 'ROOT', 'dn': [1, 3, 4, 5, 6, 8, 9, 11, 15]}, {'tok': 'him', 'tag': 'PRP', 'dep': 'dobj', 'up': 7, 'dn': []}, {'tok': 'or', 'tag': 'CC', 'dep': 'cc', 'up': 7, 'dn': []}, {'tok': 'not', 'tag': 'RB', 'dep': 'neg', 'up': 11, 'dn': []}, {'tok': 'is', 'tag': 'VBZ', 'dep': 'conj', 'up': 7, 'dn': [10, 14]}, {'tok': 'a', 'tag': 'DT', 'dep': 'det', 'up': 14, 'dn': []}, {'tok': 'mute', 'tag': 'JJ', 'dep': 'amod', 'up': 14, 'dn': []}, {'tok': 'point', 'tag': 'NN', 'dep': 'attr', 'up': 11, 'dn': [12, 13]}, {'tok': '.', 'tag': '.', 'dep': 'punct', 'up': 7, 'dn': []}]}, {'rt': 2, 'toks': [{'tok': 'the', 'tag': 'DT', 'dep': 'det', 'up': 1, 'dn': []}, {'tok': 'point', 'tag': 'NN', 'dep': 'nsubj', 'up': 2, 'dn': [0]}, {'tok': 'is', 'tag': 'VBZ', 'dep': 'ROOT', 'dn': [1, 5, 10]}, {'tok': 'that', 'tag': 'IN', 'dep': 'mark', 'up': 5, 'dn': []}, {'tok': 'someone', 'tag': 'NN', 'dep': 'nsubj', 'up': 5, 'dn': []}, {'tok': 'tried', 'tag': 'VBD', 'dep': 'ccomp', 'up': 2, 'dn': [3, 4, 7]}, {'tok': 'to', 'tag': 'TO', 'dep': 'aux', 'up': 7, 'dn': []}, {'tok': 'injure', 'tag': 'VB', 'dep': 'xcomp', 'up': 5, 'dn': [6, 9]}, {'tok': 'the', 'tag': 'DT', 'dep': 'det', 'up': 9, 'dn': []}, {'tok': 'president', 'tag': 'NN', 'dep': 'dobj', 'up': 7, 'dn': [8]}, {'tok': '.', 'tag': '.', 'dep': 'punct', 'up': 2, 'dn': []}]}, {'rt': 12, 'toks': [{'tok': '(', 'tag': '-LRB-', 'dep': 'punct', 'up': 1, 'dn': []}, {'tok': '2', 'tag': 'LS', 'dep': 'meta', 'up': 12, 'dn': [0, 2]}, {'tok': ')', 'tag': '-RRB-', 'dep': 'punct', 'up': 1, 'dn': []}, {'tok': 'when', 'tag': 'WRB', 'dep': 'advmod', 'up': 7, 'dn': []}, {'tok': 'this', 'tag': 'DT', 'dep': 'det', 'up': 5, 'dn': []}, {'tok': 'story', 'tag': 'NN', 'dep': 'nsubj', 'up': 7, 'dn': [4]}, {'tok': 'first', 'tag': 'RB', 'dep': 'advmod', 'up': 7, 'dn': []}, {'tok': 'broke', 'tag': 'VBD', 'dep': 'advcl', 'up': 12, 'dn': [3, 5, 6]}, {'tok': ',', 'tag': ',', 'dep': 'punct', 'up': 12, 'dn': []}, {'tok': 'the', 'tag': 'DT', 'dep': 'det', 'up': 11, 'dn': []}, {'tok': 'Georgian', 'tag': 'JJ', 'dep': 'amod', 'up': 11, 'dn': []}, {'tok': 'authorities', 'tag': 'NNS', 'dep': 'nsubj', 'up': 12, 'dn': [9, 10]}, {'tok': 'reported', 'tag': 'VBD', 'dep': 'ROOT', 'dn': [1, 7, 8, 11, 13, 14, 15, 19]}, {'tok': 'it', 'tag': 'PRP', 'dep': 'dobj', 'up': 12, 'dn': []}, {'tok': ',', 'tag': ',', 'dep': 'punct', 'up': 12, 'dn': []}, {'tok': 'and', 'tag': 'CC', 'dep': 'cc', 'up': 12, 'dn': []}, {'tok': 'the', 'tag': 'DT', 'dep': 'det', 'up': 18, 'dn': []}, {'tok': 'U.S.', 'tag': 'NNP', 'dep': 'compound', 'up': 18, 'dn': []}, {'tok': 'Government', 'tag': 'NNP', 'dep': 'nsubj', 'up': 19, 'dn': [16, 17]}, {'tok': 'DENIED', 'tag': 'NNP', 'dep': 'conj', 'up': 12, 'dn': [18, 23, 24]}, {'tok': 'that', 'tag': 'IN', 'dep': 'mark', 'up': 23, 'dn': []}, {'tok': 'it', 'tag': 'PRP', 'dep': 'nsubj', 'up': 23, 'dn': []}, {'tok': 'even', 'tag': 'RB', 'dep': 'advmod', 'up': 23, 'dn': []}, {'tok': 'happened', 'tag': 'VBD', 'dep': 'ccomp', 'up': 19, 'dn': [20, 21, 22]}, {'tok': '.', 'tag': '.', 'dep': 'punct', 'up': 19, 'dn': []}]}, {'rt': 1, 'toks': [{'tok': 'it', 'tag': 'PRP', 'dep': 'nsubj', 'up': 1, 'dn': []}, {'tok': 'took', 'tag': 'VBD', 'dep': 'ROOT', 'dn': [0, 4, 9, 13]}, {'tok': 'a', 'tag': 'DT', 'dep': 'quantmod', 'up': 3, 'dn': []}, {'tok': 'few', 'tag': 'JJ', 'dep': 'amod', 'up': 4, 'dn': [2]}, {'tok': 'days', 'tag': 'NNS', 'dep': 'dobj', 'up': 1, 'dn': [3]}, {'tok': 'before', 'tag': 'IN', 'dep': 'mark', 'up': 9, 'dn': []}, {'tok': 'the', 'tag': 'DT', 'dep': 'det', 'up': 8, 'dn': []}, {'tok': 'U.S.', 'tag': 'NNP', 'dep': 'compound', 'up': 8, 'dn': []}, {'tok': 'Government', 'tag': 'NNP', 'dep': 'nsubj', 'up': 9, 'dn': [6, 7]}, {'tok': 'admitted', 'tag': 'VBD', 'dep': 'advcl', 'up': 1, 'dn': [5, 8, 12]}, {'tok': 'that', 'tag': 'IN', 'dep': 'mark', 'up': 12, 'dn': []}, {'tok': 'it', 'tag': 'PRP', 'dep': 'nsubj', 'up': 12, 'dn': []}, {'tok': 'happened', 'tag': 'VBD', 'dep': 'ccomp', 'up': 9, 'dn': [10, 11]}, {'tok': '.', 'tag': '.', 'dep': 'punct', 'up': 1, 'dn': []}]}, {'rt': 3, 'toks': [{'tok': '(', 'tag': '-LRB-', 'dep': 'punct', 'up': 1, 'dn': []}, {'tok': '3', 'tag': 'LS', 'dep': 'meta', 'up': 3, 'dn': [0, 2]}, {'tok': ')', 'tag': '-RRB-', 'dep': 'punct', 'up': 1, 'dn': []}, {'tok': 'read', 'tag': 'VBD', 'dep': 'ROOT', 'dn': [1, 6, 35]}, {'tok': 'the', 'tag': 'DT', 'dep': 'det', 'up': 6, 'dn': []}, {'tok': 'Clinton', 'tag': 'NNP', 'dep': 'compound', 'up': 6, 'dn': []}, {'tok': 'entry', 'tag': 'NN', 'dep': 'dobj', 'up': 3, 'dn': [4, 5, 7, 8, 9, 13]}, {'tok': ':', 'tag': ':', 'dep': 'punct', 'up': 6, 'dn': []}, {'tok': \"'\", 'tag': \"''\", 'dep': 'punct', 'up': 6, 'dn': []}, {'tok': \"'\", 'tag': \"''\", 'dep': 'punct', 'up': 6, 'dn': []}, {'tok': 'Francisco', 'tag': 'NNP', 'dep': 'compound', 'up': 12, 'dn': []}, {'tok': 'Martin', 'tag': 'NNP', 'dep': 'compound', 'up': 12, 'dn': []}, {'tok': 'Duran', 'tag': 'NNP', 'dep': 'nsubj', 'up': 13, 'dn': [10, 11]}, {'tok': 'fired', 'tag': 'VBD', 'dep': 'acl', 'up': 6, 'dn': [12, 14, 15, 19]}, {'tok': 'shots', 'tag': 'NNS', 'dep': 'dobj', 'up': 13, 'dn': []}, {'tok': 'at', 'tag': 'IN', 'dep': 'prep', 'up': 13, 'dn': [18]}, {'tok': 'the', 'tag': 'DT', 'dep': 'det', 'up': 18, 'dn': []}, {'tok': 'White', 'tag': 'NNP', 'dep': 'compound', 'up': 18, 'dn': []}, {'tok': 'House', 'tag': 'NNP', 'dep': 'pobj', 'up': 15, 'dn': [16, 17]}, {'tok': 'from', 'tag': 'IN', 'dep': 'prep', 'up': 13, 'dn': [23]}, {'tok': 'the', 'tag': 'DT', 'dep': 'det', 'up': 23, 'dn': []}, {'tok': 'south', 'tag': 'JJ', 'dep': 'amod', 'up': 22, 'dn': []}, {'tok': 'lawn', 'tag': 'NN', 'dep': 'compound', 'up': 23, 'dn': [21]}, {'tok': 'thinking', 'tag': 'NN', 'dep': 'pobj', 'up': 19, 'dn': [20, 22, 26]}, {'tok': 'that', 'tag': 'IN', 'dep': 'mark', 'up': 26, 'dn': []}, {'tok': 'Clinton', 'tag': 'NNP', 'dep': 'nsubj', 'up': 26, 'dn': []}, {'tok': 'was', 'tag': 'VBD', 'dep': 'ccomp', 'up': 23, 'dn': [24, 25, 27]}, {'tok': 'among', 'tag': 'IN', 'dep': 'prep', 'up': 26, 'dn': [29]}, {'tok': 'the', 'tag': 'DT', 'dep': 'det', 'up': 29, 'dn': []}, {'tok': 'men', 'tag': 'NNS', 'dep': 'pobj', 'up': 27, 'dn': [28, 30]}, {'tok': 'in', 'tag': 'IN', 'dep': 'prep', 'up': 29, 'dn': [32]}, {'tok': 'dark', 'tag': 'JJ', 'dep': 'amod', 'up': 32, 'dn': []}, {'tok': 'suits', 'tag': 'NNS', 'dep': 'pobj', 'up': 30, 'dn': [31, 33]}, {'tok': 'standing', 'tag': 'VBG', 'dep': 'acl', 'up': 32, 'dn': [34]}, {'tok': 'there', 'tag': 'RB', 'dep': 'advmod', 'up': 33, 'dn': []}, {'tok': '.', 'tag': '.', 'dep': 'punct', 'up': 3, 'dn': []}]}, {'rt': 3, 'toks': [{'tok': 'No', 'tag': 'DT', 'dep': 'det', 'up': 1, 'dn': []}, {'tok': 'one', 'tag': 'NN', 'dep': 'nsubjpass', 'up': 3, 'dn': [0]}, {'tok': 'was', 'tag': 'VBD', 'dep': 'auxpass', 'up': 3, 'dn': []}, {'tok': 'hurt', 'tag': 'VBN', 'dep': 'ROOT', 'dn': [1, 2, 4, 7]}, {'tok': 'and', 'tag': 'CC', 'dep': 'cc', 'up': 3, 'dn': []}, {'tok': 'Duran', 'tag': 'NNP', 'dep': 'nsubjpass', 'up': 7, 'dn': []}, {'tok': 'was', 'tag': 'VBD', 'dep': 'auxpass', 'up': 7, 'dn': []}, {'tok': 'sentenced', 'tag': 'VBN', 'dep': 'conj', 'up': 3, 'dn': [5, 6, 8, 13, 14]}, {'tok': 'to', 'tag': 'IN', 'dep': 'prep', 'up': 7, 'dn': [10]}, {'tok': '40', 'tag': 'CD', 'dep': 'nummod', 'up': 10, 'dn': []}, {'tok': 'years', 'tag': 'NNS', 'dep': 'pobj', 'up': 8, 'dn': [9, 11]}, {'tok': 'in', 'tag': 'IN', 'dep': 'prep', 'up': 10, 'dn': [12]}, {'tok': 'prison', 'tag': 'NN', 'dep': 'pobj', 'up': 11, 'dn': []}, {'tok': '.', 'tag': '.', 'dep': 'punct', 'up': 7, 'dn': []}, {'tok': \"''\", 'tag': \"''\", 'dep': 'punct', 'up': 7, 'dn': []}]}, {'rt': 1, 'toks': [{'tok': 'Clinton', 'tag': 'NNP', 'dep': 'nsubj', 'up': 1, 'dn': []}, {'tok': 'was', 'tag': 'VBD', 'dep': 'ROOT', 'dn': [0, 2, 3, 4, 6]}, {'tok': \"n't\", 'tag': 'RB', 'dep': 'neg', 'up': 1, 'dn': []}, {'tok': 'ever', 'tag': 'RB', 'dep': 'advmod', 'up': 1, 'dn': []}, {'tok': 'in', 'tag': 'IN', 'dep': 'prep', 'up': 1, 'dn': [5]}, {'tok': 'danger', 'tag': 'NN', 'dep': 'pobj', 'up': 4, 'dn': []}, {'tok': '.', 'tag': '.', 'dep': 'punct', 'up': 1, 'dn': []}]}, {'rt': 3, 'toks': [{'tok': 'This', 'tag': 'DT', 'dep': 'det', 'up': 1, 'dn': []}, {'tok': 'list', 'tag': 'NN', 'dep': 'nsubjpass', 'up': 3, 'dn': [0]}, {'tok': 'is', 'tag': 'VBZ', 'dep': 'auxpass', 'up': 3, 'dn': []}, {'tok': 'meant', 'tag': 'VBN', 'dep': 'ROOT', 'dn': [1, 2, 5, 9]}, {'tok': 'to', 'tag': 'TO', 'dep': 'aux', 'up': 5, 'dn': []}, {'tok': 'list', 'tag': 'VB', 'dep': 'xcomp', 'up': 3, 'dn': [4, 6]}, {'tok': 'incidents', 'tag': 'NNS', 'dep': 'dobj', 'up': 5, 'dn': [7]}, {'tok': 'of', 'tag': 'IN', 'dep': 'prep', 'up': 6, 'dn': [8]}, {'tok': 'attempts', 'tag': 'NNS', 'dep': 'pobj', 'up': 7, 'dn': []}, {'tok': '.', 'tag': '.', 'dep': 'punct', 'up': 3, 'dn': []}]}]}, 'vectors': [], 'speaker': Speaker({'obj_type': 'speaker', 'meta': {}, 'vectors': [], 'owner': <convokit.model.corpus.Corpus object at 0x100b05fd0>, 'id': 'Kingturtle'}), 'conversation_id': '14276135.641.641', 'reply_to': '14286657.719.719', 'timestamp': 1117148704.0, 'text': \"(1) whether it would have killed him or not is a mute point. the point is that someone tried to injure the president. (2) when this story first broke, the Georgian authorities reported it, and the U.S. Government DENIED that it even happened. it took a few days before the U.S. Government admitted that it happened. (3) read the Clinton entry: ''Francisco Martin Duran fired shots at the White House from the south lawn thinking that Clinton was among the men in dark suits standing there. No one was hurt and Duran was sentenced to 40 years in prison.'' Clinton wasn't ever in danger. This list is meant to list incidents of attempts. \", 'owner': <convokit.model.corpus.Corpus object at 0x100b05fd0>, 'id': '14286807.842.842'})"
      ]
     },
     "metadata": {},
     "output_type": "display_data"
    }
   ],
   "source": [
    "utt = corpus.random_utterance()\n",
    "display(utt)"
   ]
  },
  {
   "cell_type": "code",
   "execution_count": 7,
   "metadata": {},
   "outputs": [
    {
     "name": "stdout",
     "output_type": "stream",
     "text": [
      "Text: (1) whether it would have killed him or not is a mute point. the point is that someone tried to injure the president. (2) when this story first broke, the Georgian authorities reported it, and the U.S. Government DENIED that it even happened. it took a few days before the U.S. Government admitted that it happened. (3) read the Clinton entry: ''Francisco Martin Duran fired shots at the White House from the south lawn thinking that Clinton was among the men in dark suits standing there. No one was hurt and Duran was sentenced to 40 years in prison.'' Clinton wasn't ever in danger. This list is meant to list incidents of attempts.  \n",
      "\n"
     ]
    }
   ],
   "source": [
    "print(\"Text:\", utt.text, \"\\n\")\n"
   ]
  },
  {
   "cell_type": "code",
   "execution_count": 8,
   "metadata": {},
   "outputs": [],
   "source": [
    "input = \"\"\n",
    "\n",
    "for utt in corpus.iter_utterances():\n",
    "    input += utt.text + \"\\n\""
   ]
  },
  {
   "cell_type": "code",
   "execution_count": 9,
   "metadata": {},
   "outputs": [
    {
     "name": "stdout",
     "output_type": "stream",
     "text": [
      "Length of the input: 11718747\n"
     ]
    }
   ],
   "source": [
    "print(\"Length of the input:\", len(input))"
   ]
  },
  {
   "cell_type": "code",
   "execution_count": 10,
   "metadata": {},
   "outputs": [
    {
     "name": "stdout",
     "output_type": "stream",
     "text": [
      "\t\n",
      " !\"#$%&'()*+,-./0123456789:;<=>?@ABCDEFGHIJKLMNOPQRSTUVWXYZ[\\]^_`abcdefghijklmnopqrstuvwxyz{|}~ ¡¢£¤¦§¨©«¬­®¯°±²³´·º»½¿ÀÁÅÆÇÉÎÐÓÖ×ØÜÞßàáâãäåæçèéêëìíîïðñòóôö÷øùúüĀāăąćČčĐēęğĩīİıłŃńŋŌōśŞşŠšţŦūűŻżŽžƒưǎțɒɔəɛɡɪɾʃʌʾʿˈˉːˠ̃͡ΑΒΓΔΕΖΗΙΚΛΜΝΞΟΠΡΣΤΦΩάέήίαβγδεζηθικλμνξοπρςστυφχωόύώϟАБВГДЕЗИКЛМНОПРСУФЦЯабвгдежзийклмнопрстуфцчшщъыьюяёіїј҅ԱԲազիլտրאבדהוזחטילמןנסעףפרשתابةتجحخدرسصطعفقلمنهويیकतदधनमरवसहािूै्ਖਸੁகபயறவா்ಕಗಜಯಲಹಾಿುೊ್აბზილრᴥḇḤṅṇṗṣṫảậặẻẽốớởợữὸ   ​‍‎‑‒–—―‘’“”„•… ›⁄ⁿ€™←↑→∀−√∝∞≈≠≡≥≼≽⋅⌠⌡〈〉─│╟╢▎▪►▼●◦☆☮☯☺☼♠♣♥♦♪♫⚞⚟✔✝❤➪ⱷ　、。「」あいかきけげこしすせそたっつてでとなにのはぶめやゆらりるれわをんアィイゥウエオカガクグゲコサシジスズセソタダッツテデトドナニヌヒビブプポマミムメモュョラリルレン・ー一万三上个中之乗乙亡人今令们件伝低住作便信停偷傳傷像僕億元公共出刊列初利动勅勇千华叔受古史号司周和員回国國在士売壹外大天央始委姦姿娘媒学宣害容射對小尾局山島巴市帰平年形後念思愛成戰戶戻批抗报控支放斃文斗新日映昭時暴曲書月有本東枚案橋機次歌歲氏水沙河治法注活流液清游漢為然爷版物狂球理生產由画界疾登發破稅空突第紀約索緒美群花英茉莉萬行西覚言謡议词调赤近送週遂道醒録開間闻阿附限陳雄電音風飛餘高魚黨관광권난냐녀다당대도드랑략로리메슈스시안에오웃의일장캐파프하한해ﬁ︠︡﻿！－０１４５８：＞～�\n",
      "Vocab size: 840\n"
     ]
    }
   ],
   "source": [
    "chars = sorted(list(set(input)))\n",
    "vocab_size = len(chars)\n",
    "print(''.join(chars))\n",
    "print(\"Vocab size:\", vocab_size)"
   ]
  },
  {
   "cell_type": "code",
   "execution_count": 11,
   "metadata": {},
   "outputs": [
    {
     "name": "stdout",
     "output_type": "stream",
     "text": [
      "Encode: [42, 71, 78, 78, 81]\n",
      "Decode: Hello\n"
     ]
    }
   ],
   "source": [
    "stoi = {ch:i for i,ch in enumerate(chars)}\n",
    "itos = {i:ch for i,ch in enumerate(chars)}\n",
    "encode = lambda x: [stoi[c] for c in x]\n",
    "decode = lambda x: ''.join([itos[c] for c in x])\n",
    "\n",
    "print(\"Encode:\", encode(\"Hello\"))\n",
    "print(\"Decode:\", decode(encode(\"Hello\")))\n"
   ]
  },
  {
   "cell_type": "code",
   "execution_count": 15,
   "metadata": {},
   "outputs": [
    {
     "name": "stdout",
     "output_type": "stream",
     "text": [
      "torch.Size([11718747]) torch.int64\n",
      "tensor([ 31,  31,   2,  61,  57,  43,  45,  43,  65,  46,  43,  48,  45,  28,\n",
      "          2,  57,  50,  28,  37,  49,  47,  47,  49,  48,  48,  35,  47,  39,\n",
      "         63,   2,  31,  31,   1,   1,  43,   2,  80,  81,  86,  75,  69,  71,\n",
      "          2,  86,  74,  67,  86,   2,  71,  67,  84,  75,  71,  84,   2,  86,\n",
      "         74,  67,  86,   2,   2,  79,  81,  88,  71,  70,   2,  89,  75,  77,\n",
      "         75,  65,  78,  75,  80,  77,   2,  86,  81,   2,  36,  75,  78,  78,\n",
      "          2,  37,  74,  71,  80,   2,  69,  75,  86,  75,  80,  73,   2,  89,\n",
      "         75,  77,  75,  65,  78,  75,  80,  77,   2,  14,   2,  86,  74,  71,\n",
      "         80,   2,  91,  81,  87,   2,  84,  71,  88,  71,  84,  86,  71,  70,\n",
      "          2,  86,  74,  75,  85,   2,  69,  74,  67,  80,  73,  71,  14,   2,\n",
      "         36,  75,  78,  78,   2,  37,  74,  71,  80,   2,  70,  81,  71,  85,\n",
      "         80,   9,  86,   2,  69,  81,  79,  79,  81,  80,  78,  91,   2,  73,\n",
      "         81,   2,  68,  91,   2,  57,  75,  78,  78,  75,  67,  79,  14,   2,\n",
      "         74,  75,  85,   2,  68,  81,  81,  77,   2,  75,  85,   2,  71,  88,\n",
      "         71,  80,   2,  82,  71,  80,  80,  71,  70,   2,  67,  85,   2,  36,\n",
      "         75,  78,  78,   2,  37,  74,  71,  80,  16,   2,  40,  84,  81,  79,\n",
      "          2,  89,  74,  67,  86,   2,  43,   2,  84,  71,  67,  70,   2,  75,\n",
      "         80,   2,  57,  50,  28,  37,  49,  47,  47,  49,  48,  48,  35,  47,\n",
      "         39,   2,  50,  67,  86,  84,  75,  77,  52,   2,  85,  71,  71,  79,\n",
      "         85,   2,  86,  81,   2,  68,  71,   2,  69,  81,  84,  84,  71,  69,\n",
      "         86,  14,   2,  39,  90,  67,  79,  82,  78,  71,  85,   2,  73,  75,\n",
      "         88,  71,  80,   2,  67,  84,  71,   2,  80,  67,  79,  71,  85,   2,\n",
      "         85,  87,  69,  74,   2,  67,  85,  28,   2,  12,  89,  75,  77,  75,\n",
      "         65,  78,  75,  80,  77,   2,  10,  80,  81,  86,   2,  89,  75,  77,\n",
      "         75,  65,  78,  75,  80,  77,  11,   2,  12,  89,  75,  77,  75,  65,\n",
      "         78,  75,  80,  77,   2,  10,  80,  81,  86,   2,  89,  75,  77,  75,\n",
      "         65,  78,  75,  80,  77,  11,   2,  43,   2,  86,  74,  75,  80,  77,\n",
      "          2,  86,  74,  75,  85,   2,  84,  71,  88,  71,  84,  86,   2,  79,\n",
      "         67,  91,   2,  74,  67,  88,  71,   2,  68,  71,  71,  80,   2,  67,\n",
      "          2,  79,  75,  85,  86,  67,  77,  71,   2,  87,  80,  78,  71,  85,\n",
      "         85,   2,  91,  81,  87,   2,  77,  80,  81,  89,   2,  81,  86,  74,\n",
      "         71,  84,  89,  75,  85,  71,  33,   2, 486, 490, 486,   2,   1,  37,\n",
      "         74,  71,  80,   2,  89,  67,  85,   2,  77,  80,  81,  89,  80,   2,\n",
      "         75,  80,   2,  86,  74,  71,   2,  82,  81,  77,  71,  84,   2,  89,\n",
      "         81,  84,  78,  70,   2,  67,  85,   2,   4,  57,  75,  78,  78,  75,\n",
      "         67,  79,   4,   2,  72,  81,  84,   2,  91,  71,  67,  84,  85,   2,\n",
      "         68,  71,  72,  81,  84,  71,   2,  74,  71,   2,  68,  71,  69,  67,\n",
      "         79,  71,   2,  69,  81,  79,  79,  81,  80,  78,  91,   2,  77,  80,\n",
      "         81,  89,  80,   2,  67,  85,   2,   4,  36,  75,  78,  78,   4,  16,\n",
      "          2,   2,  43,   2,  69,  74,  67,  80,  73,  71,  70,   2,  75,  86,\n",
      "          2,  68,  67,  69,  77,   2,  68,  71,  69,  67,  87,  85,  71,   2,\n",
      "         75,  80,  69,  75,  70,  71,  80,  69,  71,  85,   2,  81,  80,  78,\n",
      "         75,  80,  71,   2,  75,  80,  69,  78,  87,  70,  75,  80,  73,   2,\n",
      "         55,  85,  71,  80,  71,  86,   2,  67,  84,  71,   2,  84,  81,  87,\n",
      "         73,  74,  78,  91,   2,  71,  83,  87,  67,  78,  14,   2,  80,  81,\n",
      "         86,  74,  75,  80,  73,   2,  67,  86,   2,  67,  78,  78,   2,  78,\n",
      "         75,  77,  71,   2,  36,  75,  78,  78,   2,  37,  78,  75,  80,  86,\n",
      "         81,  80,   2,  67,  80,  70,   2,  57,  75,  78,  78,  75,  67,  79,\n",
      "          2,  37,  78,  75,  80,  86,  81,  80,  14,   2,  67,  80,  70,   2,\n",
      "         75,  80,   2,  71,  83,  87,  67,  78,   2,  69,  67,  85,  71,  85,\n",
      "          2,  87,  85,  75,  80,  73,   2,  86,  74,  71,   2,  84,  71,  67,\n",
      "         78,   2,  80,  67,  79,  71,   2,  85,  71,  71,  79,  85,   2,  86,\n",
      "         74,  71,   2,  68,  71,  85,  86,   2,  69,  74,  81,  75,  69,  71,\n",
      "         16,   2,   2,  10,  86,  74,  71,   2,  71,  90,  86,  71,  84,  80,\n",
      "         67,  78,  65,  78,  75,  80,  77,   2,  82,  67,  73,  71,   2,  75,\n",
      "         85,   2,  71,  85,  82,  71,  69,  75,  67,  78,  78,  91,   2,  82,\n",
      "         85,  69,  74,  75,  92,  81,  16,  16,  16,   2,  57,  75,  78,  78,\n",
      "         67,  79,   2,  75,  80,   2,  86,  74,  71,   2,  82,  67,  73,  71,\n",
      "          2,  86,  75,  86,  78,  71,  14,   2,  36,  75,  78,  78,   2,  75,\n",
      "         80,   2,  86,  74,  71,   2,  82,  67,  73,  71,   2,  86,  71,  90,\n",
      "         86,  11,  16,   2,   2,  42,  81,  89,  71,  88,  71,  84,   2,  43,\n",
      "          2,  85,  87,  82,  82,  81,  85,  71,   2,  86,  74,  71,   2,  68,\n",
      "         81,  81,  77,   2,  75,  85,   2,  86,  74,  71,   2,  86,  84,  87,\n",
      "         79,  82,   2,  69,  67,  84,  70,  14,   2,  85,  81,   2,  87,  85,\n",
      "         75,  80,  73,   2,  86,  74,  71,   2,  80,  67,  79,  71,   2,  81,\n",
      "         80,   2,  86,  74,  71,   2,  68,  81,  81,  77,   2,  75,  85,   2,\n",
      "         82,  84,  81,  68,  67,  68,  78,  91,   2,  68,  71,  85,  86,  16,\n",
      "          2,   1,  43,   2,  85,  71,  71,   2,  89,  74,  67,  86,   2,  91,\n",
      "         81,  87,   2,  85,  67,  91,  75,  80,  73,   2,  43,   2,  76,  87,\n",
      "         85,  86,   2,  84,  71,  67,  70,   2,  74,  75,  85,   2,  82,  81,\n",
      "         77,  71,  84,  85,  86,  67,  84,  85,   2,  82,  84,  81,  72,  75,\n",
      "         78,  71,  14,   2,  43,  86])\n"
     ]
    }
   ],
   "source": [
    "data = torch.tensor(encode(input), dtype=torch.long)\n",
    "print(data.shape, data.dtype)\n",
    "print(data[:1000])"
   ]
  },
  {
   "cell_type": "code",
   "execution_count": 17,
   "metadata": {},
   "outputs": [],
   "source": [
    "n = int(len(data) * 0.9)\n",
    "train_data = data[:n]\n",
    "val_data = data[n:]"
   ]
  },
  {
   "cell_type": "code",
   "execution_count": 22,
   "metadata": {},
   "outputs": [
    {
     "name": "stdout",
     "output_type": "stream",
     "text": [
      "inputs:\n",
      "torch.Size([4, 8])\n",
      "tensor([[86,  2, 86, 81,  2, 81, 86, 74],\n",
      "        [70,  2, 85, 86, 81, 82,  2, 71],\n",
      "        [74, 71, 85, 71,  2, 69, 81, 80],\n",
      "        [ 2,  2,  2,  1, 43, 85, 80,  9]])\n",
      "targets:\n",
      "torch.Size([4, 8])\n",
      "tensor([[ 2, 86, 81,  2, 81, 86, 74, 71],\n",
      "        [ 2, 85, 86, 81, 82,  2, 71, 70],\n",
      "        [71, 85, 71,  2, 69, 81, 80, 85],\n",
      "        [ 2,  2,  1, 43, 85, 80,  9, 86]])\n",
      "---\n",
      "When input is [86] the target is: 2\n",
      "When input is [86, 2] the target is: 86\n",
      "When input is [86, 2, 86] the target is: 81\n",
      "When input is [86, 2, 86, 81] the target is: 2\n",
      "When input is [86, 2, 86, 81, 2] the target is: 81\n",
      "When input is [86, 2, 86, 81, 2, 81] the target is: 86\n",
      "When input is [86, 2, 86, 81, 2, 81, 86] the target is: 74\n",
      "When input is [86, 2, 86, 81, 2, 81, 86, 74] the target is: 71\n",
      "When input is [70] the target is: 2\n",
      "When input is [70, 2] the target is: 85\n",
      "When input is [70, 2, 85] the target is: 86\n",
      "When input is [70, 2, 85, 86] the target is: 81\n",
      "When input is [70, 2, 85, 86, 81] the target is: 82\n",
      "When input is [70, 2, 85, 86, 81, 82] the target is: 2\n",
      "When input is [70, 2, 85, 86, 81, 82, 2] the target is: 71\n",
      "When input is [70, 2, 85, 86, 81, 82, 2, 71] the target is: 70\n",
      "When input is [74] the target is: 71\n",
      "When input is [74, 71] the target is: 85\n",
      "When input is [74, 71, 85] the target is: 71\n",
      "When input is [74, 71, 85, 71] the target is: 2\n",
      "When input is [74, 71, 85, 71, 2] the target is: 69\n",
      "When input is [74, 71, 85, 71, 2, 69] the target is: 81\n",
      "When input is [74, 71, 85, 71, 2, 69, 81] the target is: 80\n",
      "When input is [74, 71, 85, 71, 2, 69, 81, 80] the target is: 85\n",
      "When input is [2] the target is: 2\n",
      "When input is [2, 2] the target is: 2\n",
      "When input is [2, 2, 2] the target is: 1\n",
      "When input is [2, 2, 2, 1] the target is: 43\n",
      "When input is [2, 2, 2, 1, 43] the target is: 85\n",
      "When input is [2, 2, 2, 1, 43, 85] the target is: 80\n",
      "When input is [2, 2, 2, 1, 43, 85, 80] the target is: 9\n",
      "When input is [2, 2, 2, 1, 43, 85, 80, 9] the target is: 86\n"
     ]
    }
   ],
   "source": [
    "block_size = 8\n",
    "batch_size = 4\n",
    "\n",
    "def get_batch(split):\n",
    "    data = train_data if split == \"train\" else val_data\n",
    "    ix = torch.randint(len(data) - block_size, (batch_size,))\n",
    "    x = torch.stack([data[i:i+block_size] for i in ix])\n",
    "    y = torch.stack([data[i+1:i+block_size + 1] for i in ix])\n",
    "    return x, y\n",
    "\n",
    "\n",
    "xb, yb = get_batch(\"train\")\n",
    "print('inputs:')\n",
    "print(xb.shape)\n",
    "print(xb)\n",
    "print('targets:')\n",
    "print(yb.shape)\n",
    "print(yb)\n",
    "\n",
    "print('---')\n",
    "\n",
    "for b in range(batch_size):\n",
    "    for t in range(block_size):\n",
    "        context = xb[b, :t+1]\n",
    "        target = yb[b, t]\n",
    "        print(f\"When input is {context.tolist()} the target is: {target}\")\n",
    "        \n"
   ]
  },
  {
   "cell_type": "code",
   "execution_count": null,
   "metadata": {},
   "outputs": [],
   "source": []
  }
 ],
 "metadata": {
  "kernelspec": {
   "display_name": "Python 3",
   "language": "python",
   "name": "python3"
  },
  "language_info": {
   "codemirror_mode": {
    "name": "ipython",
    "version": 3
   },
   "file_extension": ".py",
   "mimetype": "text/x-python",
   "name": "python",
   "nbconvert_exporter": "python",
   "pygments_lexer": "ipython3",
   "version": "3.9.13"
  },
  "orig_nbformat": 4
 },
 "nbformat": 4,
 "nbformat_minor": 2
}
